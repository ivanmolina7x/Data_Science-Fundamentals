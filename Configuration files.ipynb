{
 "cells": [
  {
   "attachments": {},
   "cell_type": "markdown",
   "metadata": {},
   "source": [
    "https://towardsdatascience.com/stop-hard-coding-in-a-data-science-project-use-config-files-instead-479ac8ffc76f"
   ]
  },
  {
   "cell_type": "markdown",
   "metadata": {},
   "source": [
    "# How to use config files to change parameters easily\n",
    "\n",
    "In Projects, normally, there are certain values we will need to change frequently, such as file names, features, hyperparameters, etc..."
   ]
  },
  {
   "cell_type": "markdown",
   "metadata": {},
   "source": [
    "#*Loading information*<br>\n",
    "data = pd.read_csv(\"***Data/daily-bike-share.csv***\")\n",
    "\n",
    "#*Drop unnecessary columns*<br>\n",
    "data = data.drop(columns=\"***instant***\")\n",
    "\n",
    "#*Split independent and dependent variables*<br>\n",
    "X = data.drop(\"***rentals***\",axis=1)\n",
    "y = data[\"***rentals***\"]\n",
    "\n",
    "#*Train-test split*<br>\n",
    "X_train, X_test, y_train, y_test = train_test_split(X, y, test_size=***0.2***, random_state=***123***)\n",
    "\n",
    "#*Create pipeline*<br>\n",
    "pipeline = Pipeline(steps = [\n",
    "               ('preprocessor', preprocessor)\n",
    "              ,('regressor',RandomForestRegressor())\n",
    "           ])\n",
    "\n",
    "#*Grid search hyperparameters*<br>\n",
    "hyperparameters = {\n",
    "    \"n_estimators\" : [int(x) for x in np.linspace(start = ***200***, stop = ***2000***, num = ***10***)],\n",
    "    \"max_features\" : [\"***auto***\", \"***sqrt***\"]\n",
    "}\n",
    "rf_model = GridSearchCV(pipeline, hyperparameters, cv=***2***, scoring=\"***accuracy***\",verbose=3)\n",
    "\n",
    "#*Fitting model*<br>\n",
    "rf_model(X_train, y_train)\n",
    "\n",
    "#*Save model*<br>\n",
    "joblib.dump(rf_model, './rf_model.pkl')"
   ]
  },
  {
   "cell_type": "markdown",
   "metadata": {},
   "source": [
    "It's easy to hardcode this values, but:\n",
    " <ul>\n",
    "    <li>Maintainability: What will you do if the feature names change? </li>\n",
    "    <li>Reusability: What will you do if you want to test new scenarios or change hyperparameters?</li>\n",
    "    <li>Security: Are you sure you should write the credentials of your database directly into the code?</li>\n",
    "</ul>"
   ]
  },
  {
   "cell_type": "markdown",
   "metadata": {},
   "source": [
    "If you are worried about these things as much as me, you should use configuration files:\n",
    " <ul>\n",
    "    <li>Allows you to store parameters separately from the code, which improves code maintainability and readability. </li>\n",
    "    <li>You can easily modify project configurations without modifying the code itself.</li>\n",
    "    <li>When deploying a data science project to a production environment, a config file enables easy customization of settings specific to the production environment without the need for code modifications. </li>\n",
    "</ul>\n",
    "\n",
    "There are numerous Python libraries available for creating configuration files such as pyyaml, configparser, ConfigObj. However, the one i'm using nowadays is configparser"
   ]
  },
  {
   "cell_type": "markdown",
   "metadata": {},
   "source": [
    "First of all, we import the library and create the instance with the necessary object "
   ]
  },
  {
   "cell_type": "code",
   "execution_count": 8,
   "metadata": {},
   "outputs": [
    {
     "name": "stdout",
     "output_type": "stream",
     "text": [
      "['DATA', 'variables', 'train_test_split']\n"
     ]
    }
   ],
   "source": [
    "import configparser\n",
    "\n",
    "config = configparser.ConfigParser()"
   ]
  },
  {
   "attachments": {
    "image.png": {
     "image/png": "[encoded data removed]"
    }
   },
   "cell_type": "markdown",
   "metadata": {},
   "source": [
    "Then, we read the file that contains the information. \n",
    "Attention: We should keep this structure. In square brackets \"[]\" the section and after that: \"name of the configuration = value\"<br>\n",
    "![image.png](attachment:image.png)"
   ]
  },
  {
   "cell_type": "code",
   "execution_count": 20,
   "metadata": {},
   "outputs": [
    {
     "name": "stdout",
     "output_type": "stream",
     "text": [
      "['DATA', 'variables', 'train_test_split']\n"
     ]
    }
   ],
   "source": [
    "config.read('./config/appconfig.cfg')\n",
    "print(config.sections())"
   ]
  },
  {
   "cell_type": "markdown",
   "metadata": {},
   "source": [
    "Finally, we are going to use the method \"get\" to assign the value in the configuration file to a variable that we will use in the script"
   ]
  },
  {
   "cell_type": "code",
   "execution_count": 21,
   "metadata": {},
   "outputs": [],
   "source": [
    "file_name = config.get(\"DATA\", \"file_name\")\n",
    "cols_to_drop = config.get(\"variables\", \"cols_to_drop\")\n",
    "dep_var = config.get(\"variables\", \"feature\")\n",
    "test_size = config.get(\"train_test_split\", \"test_size\")\n",
    "random_state = config.get(\"train_test_split\", \"random_state\")"
   ]
  },
  {
   "cell_type": "markdown",
   "metadata": {},
   "source": [
    "In the rest of the script we will do as we already know"
   ]
  },
  {
   "cell_type": "code",
   "execution_count": 19,
   "metadata": {},
   "outputs": [
    {
     "name": "stdout",
     "output_type": "stream",
     "text": [
      "Pipeline(steps=[('preprocessor',\n",
      "                 ColumnTransformer(transformers=[('numeric',\n",
      "                                                  Pipeline(steps=[('imputer',\n",
      "                                                                   SimpleImputer()),\n",
      "                                                                  ('scaler',\n",
      "                                                                   StandardScaler())]),\n",
      "                                                  ['temp', 'atemp', 'hum',\n",
      "                                                   'windspeed']),\n",
      "                                                 ('categorical',\n",
      "                                                  Pipeline(steps=[('imputer',\n",
      "                                                                   SimpleImputer(strategy='constant')),\n",
      "                                                                  ('encoder',\n",
      "                                                                   OrdinalEncoder())]),\n",
      "                                                  ['season', 'mnth', 'holiday',\n",
      "                                                   'weekday', 'workingday',\n",
      "                                                   'weathersit'])])),\n",
      "                ('regressor', RandomForestRegressor())])\n"
     ]
    },
    {
     "data": {
      "text/plain": [
       "['models/rf_model.pkl']"
      ]
     },
     "execution_count": 19,
     "metadata": {},
     "output_type": "execute_result"
    }
   ],
   "source": [
    "import pandas as pd\n",
    "import numpy as np\n",
    "from sklearn.model_selection import GridSearchCV, train_test_split\n",
    "from sklearn.pipeline import Pipeline\n",
    "from sklearn.ensemble import RandomForestRegressor\n",
    "from sklearn.preprocessing import StandardScaler, OrdinalEncoder\n",
    "from sklearn.impute import SimpleImputer\n",
    "from sklearn.compose import ColumnTransformer\n",
    "import joblib\n",
    "\n",
    "\n",
    "#*Loading information*\n",
    "data = pd.read_csv(file_name)\n",
    "\n",
    "#*Drop unnecessary columns*\n",
    "data = data.drop(columns=cols_to_drop)\n",
    "\n",
    "#*Split independent and dependent variables*\n",
    "X = data.drop(dep_var,axis=1)\n",
    "y = data[dep_var]\n",
    "\n",
    "#*Train-test split*\n",
    "X_train, X_test, y_train, y_test = train_test_split(X, y, test_size=float(test_size), random_state=int(random_state))\n",
    "\n",
    "#*Create preprocessor*\n",
    "numeric_transformer = Pipeline(steps=[\n",
    "       ('imputer', SimpleImputer(strategy='mean'))\n",
    "      ,('scaler', StandardScaler())\n",
    "])\n",
    "categorical_transformer = Pipeline(steps=[\n",
    "       ('imputer', SimpleImputer(strategy='constant'))\n",
    "      ,('encoder', OrdinalEncoder())\n",
    "])\n",
    "\n",
    "numeric_features = ['temp', 'atemp', 'hum', 'windspeed']\n",
    "categorical_features = ['season', 'mnth', 'holiday', 'weekday', 'workingday', 'weathersit']\n",
    "\n",
    "preprocessor = ColumnTransformer(\n",
    "   transformers=[\n",
    "    ('numeric', numeric_transformer, numeric_features)\n",
    "   ,('categorical', categorical_transformer, categorical_features)\n",
    "]) \n",
    "\n",
    "\n",
    "#*Create pipeline*\n",
    "pipeline = Pipeline(steps = [\n",
    "               ('preprocessor', preprocessor)\n",
    "              ,('regressor',RandomForestRegressor())\n",
    "           ])\n",
    "\n",
    "rf_model = pipeline.fit(X_train, y_train)\n",
    "print (rf_model)\n",
    "\n",
    "#*Save model*\n",
    "joblib.dump(rf_model, 'models/rf_model.pkl')"
   ]
  }
 ],
 "metadata": {
  "kernelspec": {
   "display_name": "Python 3",
   "language": "python",
   "name": "python3"
  },
  "language_info": {
   "codemirror_mode": {
    "name": "ipython",
    "version": 3
   },
   "file_extension": ".py",
   "mimetype": "text/x-python",
   "name": "python",
   "nbconvert_exporter": "python",
   "pygments_lexer": "ipython3",
   "version": "3.11.2"
  },
  "orig_nbformat": 4
 },
 "nbformat": 4,
 "nbformat_minor": 2
}
