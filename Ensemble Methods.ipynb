{
 "cells": [
  {
   "cell_type": "code",
   "execution_count": null,
   "metadata": {},
   "outputs": [],
   "source": [
    "#https://pub.towardsai.net/introduction-to-ensemble-methods-226a5a421687"
   ]
  },
  {
   "cell_type": "markdown",
   "metadata": {},
   "source": [
    "Extreme Gradient Boosting (XGboost), Light Gradient Boosting (Lightboost), and CatBoost <br>\n",
    "https://towardsdatascience.com/effectively-optimize-your-regression-model-with-bayesian-hyperparameter-tuning-819c19f5dab3 \n",
    "\n",
    "XGBoost: A Complete Guide to Fine-Tune and Optimize your Model<br>\n",
    "https://towardsdatascience.com/xgboost-fine-tune-and-optimize-your-model-23d996fab663\n",
    "\n",
    "https://xgboost.readthedocs.io/en/stable/parameter.html#global-config"
   ]
  }
 ],
 "metadata": {
  "language_info": {
   "name": "python"
  },
  "orig_nbformat": 4
 },
 "nbformat": 4,
 "nbformat_minor": 2
}
