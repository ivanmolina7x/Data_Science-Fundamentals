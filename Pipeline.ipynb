{
 "cells": [
  {
   "cell_type": "code",
   "execution_count": null,
   "id": "4a6dbda2",
   "metadata": {},
   "outputs": [],
   "source": [
    "#https://towardsdatascience.com/step-by-step-tutorial-of-sci-kit-learn-pipeline-62402d5629b6\n",
    "#https://stackoverflow.com/questions/28822756/getting-model-attributes-from-pipeline\n",
    "#https://towardsdatascience.com/a-basic-introduction-to-pipelines-in-scikit-learn-bd4cee34ad95"
   ]
  },
  {
   "cell_type": "code",
   "execution_count": 1,
   "id": "38e019e4",
   "metadata": {},
   "outputs": [
    {
     "name": "stdout",
     "output_type": "stream",
     "text": [
      "   instant    dteday  season  yr  mnth  holiday  weekday  workingday  \\\n",
      "0        1  1/1/2011       1   0     1        0        6           0   \n",
      "1        2  1/2/2011       1   0     1        0        0           0   \n",
      "2        3  1/3/2011       1   0     1        0        1           1   \n",
      "\n",
      "   weathersit      temp     atemp       hum  windspeed  rentals  \n",
      "0           2  0.344167  0.363625  0.805833   0.160446      331  \n",
      "1           2  0.363478  0.353739  0.696087   0.248539      131  \n",
      "2           1  0.196364  0.189405  0.437273   0.248309      120  \n"
     ]
    }
   ],
   "source": [
    "import pandas as pd \n",
    "import numpy as np\n",
    "from sklearn.model_selection import train_test_split\n",
    "data = pd.read_csv('Data/daily-bike-share.csv')\n",
    "# print winedf.isnull().sum() # check for missing data\n",
    "print(data.head(3))"
   ]
  },
  {
   "cell_type": "code",
   "execution_count": 2,
   "id": "acdc46e7",
   "metadata": {},
   "outputs": [
    {
     "data": {
      "text/plain": [
       "instant       0\n",
       "dteday        0\n",
       "season        0\n",
       "yr            0\n",
       "mnth          0\n",
       "holiday       0\n",
       "weekday       0\n",
       "workingday    0\n",
       "weathersit    0\n",
       "temp          0\n",
       "atemp         0\n",
       "hum           0\n",
       "windspeed     0\n",
       "rentals       0\n",
       "dtype: int64"
      ]
     },
     "execution_count": 2,
     "metadata": {},
     "output_type": "execute_result"
    }
   ],
   "source": [
    "data.isnull().sum()"
   ]
  },
  {
   "cell_type": "code",
   "execution_count": 3,
   "id": "bc21cf50",
   "metadata": {},
   "outputs": [],
   "source": [
    "from sklearn.model_selection import train_test_split\n",
    "data = data[['season'\n",
    "             , 'mnth'\n",
    "             , 'holiday'\n",
    "             , 'weekday'\n",
    "             , 'workingday'\n",
    "             , 'weathersit'\n",
    "             , 'temp'\n",
    "             , 'atemp'\n",
    "             , 'hum'\n",
    "             , 'windspeed'\n",
    "             , 'rentals']]\n",
    "X = data.drop('rentals',axis=1)\n",
    "y = data['rentals']\n",
    "X_train, X_test, y_train, y_test = train_test_split(X, y, test_size=0.2, random_state=123)"
   ]
  },
  {
   "cell_type": "code",
   "execution_count": 4,
   "id": "7276b42b",
   "metadata": {},
   "outputs": [],
   "source": [
    "from sklearn.preprocessing import StandardScaler, OrdinalEncoder\n",
    "from sklearn.impute import SimpleImputer\n",
    "from sklearn.compose import ColumnTransformer\n",
    "from sklearn.pipeline import Pipeline"
   ]
  },
  {
   "cell_type": "code",
   "execution_count": 5,
   "id": "42f80520",
   "metadata": {},
   "outputs": [],
   "source": [
    "numeric_transformer = Pipeline(steps=[\n",
    "       ('imputer', SimpleImputer(strategy='mean'))\n",
    "      ,('scaler', StandardScaler())\n",
    "])\n",
    "categorical_transformer = Pipeline(steps=[\n",
    "       ('imputer', SimpleImputer(strategy='constant'))\n",
    "      ,('encoder', OrdinalEncoder())\n",
    "])\n",
    "\n",
    "numeric_features = ['temp', 'atemp', 'hum', 'windspeed']\n",
    "categorical_features = ['season', 'mnth', 'holiday', 'weekday', 'workingday', 'weathersit']\n",
    "preprocessor = ColumnTransformer(\n",
    "   transformers=[\n",
    "    ('numeric', numeric_transformer, numeric_features)\n",
    "   ,('categorical', categorical_transformer, categorical_features)\n",
    "]) \n"
   ]
  },
  {
   "cell_type": "code",
   "execution_count": 6,
   "id": "e464f493",
   "metadata": {},
   "outputs": [
    {
     "name": "stdout",
     "output_type": "stream",
     "text": [
      "Pipeline(steps=[('preprocessor',\n",
      "                 ColumnTransformer(transformers=[('numeric',\n",
      "                                                  Pipeline(steps=[('imputer',\n",
      "                                                                   SimpleImputer()),\n",
      "                                                                  ('scaler',\n",
      "                                                                   StandardScaler())]),\n",
      "                                                  ['temp', 'atemp', 'hum',\n",
      "                                                   'windspeed']),\n",
      "                                                 ('categorical',\n",
      "                                                  Pipeline(steps=[('imputer',\n",
      "                                                                   SimpleImputer(strategy='constant')),\n",
      "                                                                  ('encoder',\n",
      "                                                                   OrdinalEncoder())]),\n",
      "                                                  ['season', 'mnth', 'holiday',\n",
      "                                                   'weekday', 'workingday',\n",
      "                                                   'weathersit'])])),\n",
      "                ('regressor', RandomForestRegressor())])\n"
     ]
    }
   ],
   "source": [
    "from sklearn.ensemble import RandomForestRegressor\n",
    "pipeline = Pipeline(steps = [\n",
    "               ('preprocessor', preprocessor)\n",
    "              ,('regressor',RandomForestRegressor())\n",
    "           ])\n",
    "rf_model = pipeline.fit(X_train, y_train)\n",
    "print (rf_model)"
   ]
  },
  {
   "cell_type": "code",
   "execution_count": 7,
   "id": "29a8c225",
   "metadata": {},
   "outputs": [
    {
     "name": "stdout",
     "output_type": "stream",
     "text": [
      "0.7668411208557671\n"
     ]
    }
   ],
   "source": [
    "from sklearn.metrics import r2_score\n",
    "predictions = rf_model.predict(X_test)\n",
    "print (r2_score(y_test, predictions))"
   ]
  },
  {
   "cell_type": "code",
   "execution_count": 8,
   "id": "46a31292",
   "metadata": {},
   "outputs": [
    {
     "data": {
      "text/plain": [
       "\"\\n#Save model\\nimport joblib\\njoblib.dump(rf_model, './rf_model.pkl')\\n\\n#Import model \\nrf_model = joblib.load('PATH/TO/rf_model.pkl')\\nnew_prediction = rf_model.predict(new_data)\\n\""
      ]
     },
     "execution_count": 8,
     "metadata": {},
     "output_type": "execute_result"
    }
   ],
   "source": [
    "'''\n",
    "#Save model\n",
    "import joblib\n",
    "joblib.dump(rf_model, './rf_model.pkl')\n",
    "\n",
    "#Import model \n",
    "rf_model = joblib.load('PATH/TO/rf_model.pkl')\n",
    "new_prediction = rf_model.predict(new_data)\n",
    "'''"
   ]
  },
  {
   "cell_type": "code",
   "execution_count": 9,
   "id": "5001e048",
   "metadata": {},
   "outputs": [
    {
     "name": "stdout",
     "output_type": "stream",
     "text": [
      "[2155.62]\n",
      "[DecisionTreeRegressor(max_features=1.0, random_state=1449773306), DecisionTreeRegressor(max_features=1.0, random_state=250644871), DecisionTreeRegressor(max_features=1.0, random_state=1735572417), DecisionTreeRegressor(max_features=1.0, random_state=341754798), DecisionTreeRegressor(max_features=1.0, random_state=2103592843), DecisionTreeRegressor(max_features=1.0, random_state=449580397), DecisionTreeRegressor(max_features=1.0, random_state=1611126023), DecisionTreeRegressor(max_features=1.0, random_state=1983036533), DecisionTreeRegressor(max_features=1.0, random_state=276759818), DecisionTreeRegressor(max_features=1.0, random_state=1576191217), DecisionTreeRegressor(max_features=1.0, random_state=583471533), DecisionTreeRegressor(max_features=1.0, random_state=436634940), DecisionTreeRegressor(max_features=1.0, random_state=947161133), DecisionTreeRegressor(max_features=1.0, random_state=81498438), DecisionTreeRegressor(max_features=1.0, random_state=1075241323), DecisionTreeRegressor(max_features=1.0, random_state=1950397315), DecisionTreeRegressor(max_features=1.0, random_state=946559141), DecisionTreeRegressor(max_features=1.0, random_state=1163944627), DecisionTreeRegressor(max_features=1.0, random_state=1577843239), DecisionTreeRegressor(max_features=1.0, random_state=1116849380), DecisionTreeRegressor(max_features=1.0, random_state=175874014), DecisionTreeRegressor(max_features=1.0, random_state=1832303480), DecisionTreeRegressor(max_features=1.0, random_state=382829868), DecisionTreeRegressor(max_features=1.0, random_state=839150413), DecisionTreeRegressor(max_features=1.0, random_state=877800124), DecisionTreeRegressor(max_features=1.0, random_state=792242256), DecisionTreeRegressor(max_features=1.0, random_state=254223846), DecisionTreeRegressor(max_features=1.0, random_state=1115165323), DecisionTreeRegressor(max_features=1.0, random_state=2064661480), DecisionTreeRegressor(max_features=1.0, random_state=2065870509), DecisionTreeRegressor(max_features=1.0, random_state=866244097), DecisionTreeRegressor(max_features=1.0, random_state=2124091418), DecisionTreeRegressor(max_features=1.0, random_state=1876171518), DecisionTreeRegressor(max_features=1.0, random_state=1233551887), DecisionTreeRegressor(max_features=1.0, random_state=714744341), DecisionTreeRegressor(max_features=1.0, random_state=574485141), DecisionTreeRegressor(max_features=1.0, random_state=1129034240), DecisionTreeRegressor(max_features=1.0, random_state=645727207), DecisionTreeRegressor(max_features=1.0, random_state=1343631592), DecisionTreeRegressor(max_features=1.0, random_state=919161234), DecisionTreeRegressor(max_features=1.0, random_state=1983441063), DecisionTreeRegressor(max_features=1.0, random_state=310806292), DecisionTreeRegressor(max_features=1.0, random_state=950826846), DecisionTreeRegressor(max_features=1.0, random_state=481149757), DecisionTreeRegressor(max_features=1.0, random_state=1341014668), DecisionTreeRegressor(max_features=1.0, random_state=530947765), DecisionTreeRegressor(max_features=1.0, random_state=1238529221), DecisionTreeRegressor(max_features=1.0, random_state=1525079433), DecisionTreeRegressor(max_features=1.0, random_state=1485554939), DecisionTreeRegressor(max_features=1.0, random_state=361756626), DecisionTreeRegressor(max_features=1.0, random_state=2069159284), DecisionTreeRegressor(max_features=1.0, random_state=881804327), DecisionTreeRegressor(max_features=1.0, random_state=1479978562), DecisionTreeRegressor(max_features=1.0, random_state=1429300448), DecisionTreeRegressor(max_features=1.0, random_state=889515366), DecisionTreeRegressor(max_features=1.0, random_state=489222857), DecisionTreeRegressor(max_features=1.0, random_state=1356388834), DecisionTreeRegressor(max_features=1.0, random_state=431665362), DecisionTreeRegressor(max_features=1.0, random_state=1589578219), DecisionTreeRegressor(max_features=1.0, random_state=575002552), DecisionTreeRegressor(max_features=1.0, random_state=603649631), DecisionTreeRegressor(max_features=1.0, random_state=563682102), DecisionTreeRegressor(max_features=1.0, random_state=1846856032), DecisionTreeRegressor(max_features=1.0, random_state=96316975), DecisionTreeRegressor(max_features=1.0, random_state=973382586), DecisionTreeRegressor(max_features=1.0, random_state=1113260479), DecisionTreeRegressor(max_features=1.0, random_state=572939344), DecisionTreeRegressor(max_features=1.0, random_state=1108196006), DecisionTreeRegressor(max_features=1.0, random_state=1777982581), DecisionTreeRegressor(max_features=1.0, random_state=1330466370), DecisionTreeRegressor(max_features=1.0, random_state=443761857), DecisionTreeRegressor(max_features=1.0, random_state=898837405), DecisionTreeRegressor(max_features=1.0, random_state=588258905), DecisionTreeRegressor(max_features=1.0, random_state=269882781), DecisionTreeRegressor(max_features=1.0, random_state=891065224), DecisionTreeRegressor(max_features=1.0, random_state=531101819), DecisionTreeRegressor(max_features=1.0, random_state=1878152422), DecisionTreeRegressor(max_features=1.0, random_state=561536973), DecisionTreeRegressor(max_features=1.0, random_state=476508526), DecisionTreeRegressor(max_features=1.0, random_state=685515999), DecisionTreeRegressor(max_features=1.0, random_state=1633994111), DecisionTreeRegressor(max_features=1.0, random_state=229348216), DecisionTreeRegressor(max_features=1.0, random_state=986434299), DecisionTreeRegressor(max_features=1.0, random_state=399198675), DecisionTreeRegressor(max_features=1.0, random_state=1770694982), DecisionTreeRegressor(max_features=1.0, random_state=612048332), DecisionTreeRegressor(max_features=1.0, random_state=2008313510), DecisionTreeRegressor(max_features=1.0, random_state=1348275228), DecisionTreeRegressor(max_features=1.0, random_state=1634756210), DecisionTreeRegressor(max_features=1.0, random_state=626513802), DecisionTreeRegressor(max_features=1.0, random_state=1987090922), DecisionTreeRegressor(max_features=1.0, random_state=1859893463), DecisionTreeRegressor(max_features=1.0, random_state=804957670), DecisionTreeRegressor(max_features=1.0, random_state=743050818), DecisionTreeRegressor(max_features=1.0, random_state=183042431), DecisionTreeRegressor(max_features=1.0, random_state=202076808), DecisionTreeRegressor(max_features=1.0, random_state=328133484), DecisionTreeRegressor(max_features=1.0, random_state=109247126), DecisionTreeRegressor(max_features=1.0, random_state=1903319528), DecisionTreeRegressor(max_features=1.0, random_state=2038178726)]\n"
     ]
    }
   ],
   "source": [
    "RF = pipeline.named_steps['regressor']\n",
    "print(RF.predict([[0, 0, 0, 0,0, 0, 0, 0,0,0]]))\n",
    "print(RF.estimators_)"
   ]
  }
 ],
 "metadata": {
  "kernelspec": {
   "display_name": "Python 3 (ipykernel)",
   "language": "python",
   "name": "python3"
  },
  "language_info": {
   "codemirror_mode": {
    "name": "ipython",
    "version": 3
   },
   "file_extension": ".py",
   "mimetype": "text/x-python",
   "name": "python",
   "nbconvert_exporter": "python",
   "pygments_lexer": "ipython3",
   "version": "3.11.2"
  }
 },
 "nbformat": 4,
 "nbformat_minor": 5
}
