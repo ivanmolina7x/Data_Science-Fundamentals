{
 "cells": [
  {
   "cell_type": "code",
   "execution_count": null,
   "id": "4a6dbda2",
   "metadata": {},
   "outputs": [],
   "source": [
    "#https://towardsdatascience.com/step-by-step-tutorial-of-sci-kit-learn-pipeline-62402d5629b6\n",
    "#https://stackoverflow.com/questions/28822756/getting-model-attributes-from-pipeline"
   ]
  },
  {
   "cell_type": "code",
   "execution_count": 16,
   "id": "38e019e4",
   "metadata": {},
   "outputs": [
    {
     "name": "stdout",
     "output_type": "stream",
     "text": [
      "   instant    dteday  season  yr  mnth  holiday  weekday  workingday  \\\n",
      "0        1  1/1/2011       1   0     1        0        6           0   \n",
      "1        2  1/2/2011       1   0     1        0        0           0   \n",
      "2        3  1/3/2011       1   0     1        0        1           1   \n",
      "\n",
      "   weathersit      temp     atemp       hum  windspeed  rentals  \n",
      "0           2  0.344167  0.363625  0.805833   0.160446      331  \n",
      "1           2  0.363478  0.353739  0.696087   0.248539      131  \n",
      "2           1  0.196364  0.189405  0.437273   0.248309      120  \n"
     ]
    }
   ],
   "source": [
    "import pandas as pd \n",
    "import numpy as np\n",
    "from sklearn.model_selection import train_test_split\n",
    "data = pd.read_csv('Data/daily-bike-share.csv')\n",
    "# print winedf.isnull().sum() # check for missing data\n",
    "print(data.head(3))"
   ]
  },
  {
   "cell_type": "code",
   "execution_count": 11,
   "id": "acdc46e7",
   "metadata": {},
   "outputs": [
    {
     "data": {
      "text/plain": [
       "instant       0\n",
       "dteday        0\n",
       "season        0\n",
       "yr            0\n",
       "mnth          0\n",
       "hr            0\n",
       "holiday       0\n",
       "weekday       0\n",
       "workingday    0\n",
       "weathersit    0\n",
       "temp          0\n",
       "atemp         0\n",
       "hum           0\n",
       "windspeed     0\n",
       "casual        0\n",
       "registered    0\n",
       "cnt           0\n",
       "dtype: int64"
      ]
     },
     "execution_count": 11,
     "metadata": {},
     "output_type": "execute_result"
    }
   ],
   "source": [
    "data.isnull().sum()"
   ]
  },
  {
   "cell_type": "code",
   "execution_count": 18,
   "id": "bc21cf50",
   "metadata": {},
   "outputs": [],
   "source": [
    "from sklearn.model_selection import train_test_split\n",
    "data = data[['season'\n",
    "             , 'mnth'\n",
    "             , 'holiday'\n",
    "             , 'weekday'\n",
    "             , 'workingday'\n",
    "             , 'weathersit'\n",
    "             , 'temp'\n",
    "             , 'atemp'\n",
    "             , 'hum'\n",
    "             , 'windspeed'\n",
    "             , 'rentals']]\n",
    "X = data.drop('rentals',axis=1)\n",
    "y = data['rentals']\n",
    "X_train, X_test, y_train, y_test = train_test_split(X, y, test_size=0.2, random_state=123)"
   ]
  },
  {
   "cell_type": "code",
   "execution_count": 20,
   "id": "7276b42b",
   "metadata": {},
   "outputs": [],
   "source": [
    "from sklearn.preprocessing import StandardScaler, OrdinalEncoder\n",
    "from sklearn.impute import SimpleImputer\n",
    "from sklearn.compose import ColumnTransformer\n",
    "from sklearn.pipeline import Pipeline"
   ]
  },
  {
   "cell_type": "code",
   "execution_count": 23,
   "id": "42f80520",
   "metadata": {},
   "outputs": [],
   "source": [
    "numeric_transformer = Pipeline(steps=[\n",
    "       ('imputer', SimpleImputer(strategy='mean'))\n",
    "      ,('scaler', StandardScaler())\n",
    "])\n",
    "categorical_transformer = Pipeline(steps=[\n",
    "       ('imputer', SimpleImputer(strategy='constant'))\n",
    "      ,('encoder', OrdinalEncoder())\n",
    "])\n",
    "\n",
    "numeric_features = ['temp', 'atemp', 'hum', 'windspeed']\n",
    "categorical_features = ['season', 'mnth', 'holiday', 'weekday', 'workingday', 'weathersit']\n",
    "preprocessor = ColumnTransformer(\n",
    "   transformers=[\n",
    "    ('numeric', numeric_transformer, numeric_features)\n",
    "   ,('categorical', categorical_transformer, categorical_features)\n",
    "]) \n"
   ]
  },
  {
   "cell_type": "code",
   "execution_count": 24,
   "id": "e464f493",
   "metadata": {},
   "outputs": [
    {
     "name": "stdout",
     "output_type": "stream",
     "text": [
      "Pipeline(steps=[('preprocessor',\n",
      "                 ColumnTransformer(transformers=[('numeric',\n",
      "                                                  Pipeline(steps=[('imputer',\n",
      "                                                                   SimpleImputer()),\n",
      "                                                                  ('scaler',\n",
      "                                                                   StandardScaler())]),\n",
      "                                                  ['temp', 'atemp', 'hum',\n",
      "                                                   'windspeed']),\n",
      "                                                 ('categorical',\n",
      "                                                  Pipeline(steps=[('imputer',\n",
      "                                                                   SimpleImputer(strategy='constant')),\n",
      "                                                                  ('encoder',\n",
      "                                                                   OrdinalEncoder())]),\n",
      "                                                  ['season', 'mnth', 'holiday',\n",
      "                                                   'weekday', 'workingday',\n",
      "                                                   'weathersit'])])),\n",
      "                ('regressor', RandomForestRegressor())])\n"
     ]
    }
   ],
   "source": [
    "from sklearn.ensemble import RandomForestRegressor\n",
    "pipeline = Pipeline(steps = [\n",
    "               ('preprocessor', preprocessor)\n",
    "              ,('regressor',RandomForestRegressor())\n",
    "           ])\n",
    "rf_model = pipeline.fit(X_train, y_train)\n",
    "print (rf_model)"
   ]
  },
  {
   "cell_type": "code",
   "execution_count": 25,
   "id": "29a8c225",
   "metadata": {},
   "outputs": [
    {
     "name": "stdout",
     "output_type": "stream",
     "text": [
      "0.7597033413835489\n"
     ]
    }
   ],
   "source": [
    "from sklearn.metrics import r2_score\n",
    "predictions = rf_model.predict(X_test)\n",
    "print (r2_score(y_test, predictions))"
   ]
  },
  {
   "cell_type": "code",
   "execution_count": 26,
   "id": "46a31292",
   "metadata": {},
   "outputs": [
    {
     "data": {
      "text/plain": [
       "\"\\n#Save model\\nimport joblib\\njoblib.dump(rf_model, './rf_model.pkl')\\n\\n#Import model \\nrf_model = joblib.load('PATH/TO/rf_model.pkl')\\nnew_prediction = rf_model.predict(new_data)\\n\""
      ]
     },
     "execution_count": 26,
     "metadata": {},
     "output_type": "execute_result"
    }
   ],
   "source": [
    "'''\n",
    "#Save model\n",
    "import joblib\n",
    "joblib.dump(rf_model, './rf_model.pkl')\n",
    "\n",
    "#Import model \n",
    "rf_model = joblib.load('PATH/TO/rf_model.pkl')\n",
    "new_prediction = rf_model.predict(new_data)\n",
    "'''"
   ]
  },
  {
   "cell_type": "code",
   "execution_count": 34,
   "id": "5001e048",
   "metadata": {},
   "outputs": [
    {
     "name": "stdout",
     "output_type": "stream",
     "text": [
      "[2248.28]\n",
      "[DecisionTreeRegressor(max_features='auto', random_state=814511493), DecisionTreeRegressor(max_features='auto', random_state=168697168), DecisionTreeRegressor(max_features='auto', random_state=2083456065), DecisionTreeRegressor(max_features='auto', random_state=1324107941), DecisionTreeRegressor(max_features='auto', random_state=1198125469), DecisionTreeRegressor(max_features='auto', random_state=1954341259), DecisionTreeRegressor(max_features='auto', random_state=775690079), DecisionTreeRegressor(max_features='auto', random_state=1803184967), DecisionTreeRegressor(max_features='auto', random_state=824786336), DecisionTreeRegressor(max_features='auto', random_state=670405452), DecisionTreeRegressor(max_features='auto', random_state=814992556), DecisionTreeRegressor(max_features='auto', random_state=1696196365), DecisionTreeRegressor(max_features='auto', random_state=559308870), DecisionTreeRegressor(max_features='auto', random_state=1865849554), DecisionTreeRegressor(max_features='auto', random_state=1061990740), DecisionTreeRegressor(max_features='auto', random_state=1583991167), DecisionTreeRegressor(max_features='auto', random_state=199099724), DecisionTreeRegressor(max_features='auto', random_state=874493068), DecisionTreeRegressor(max_features='auto', random_state=2145939215), DecisionTreeRegressor(max_features='auto', random_state=461286635), DecisionTreeRegressor(max_features='auto', random_state=1133156379), DecisionTreeRegressor(max_features='auto', random_state=1650295192), DecisionTreeRegressor(max_features='auto', random_state=639810997), DecisionTreeRegressor(max_features='auto', random_state=1920946669), DecisionTreeRegressor(max_features='auto', random_state=1176731533), DecisionTreeRegressor(max_features='auto', random_state=1292631904), DecisionTreeRegressor(max_features='auto', random_state=1550030701), DecisionTreeRegressor(max_features='auto', random_state=670835329), DecisionTreeRegressor(max_features='auto', random_state=549413454), DecisionTreeRegressor(max_features='auto', random_state=1003222201), DecisionTreeRegressor(max_features='auto', random_state=971590453), DecisionTreeRegressor(max_features='auto', random_state=897603399), DecisionTreeRegressor(max_features='auto', random_state=1610831010), DecisionTreeRegressor(max_features='auto', random_state=1747891560), DecisionTreeRegressor(max_features='auto', random_state=1065390707), DecisionTreeRegressor(max_features='auto', random_state=1545485811), DecisionTreeRegressor(max_features='auto', random_state=1680070921), DecisionTreeRegressor(max_features='auto', random_state=1216096672), DecisionTreeRegressor(max_features='auto', random_state=1696549747), DecisionTreeRegressor(max_features='auto', random_state=1900156225), DecisionTreeRegressor(max_features='auto', random_state=383872790), DecisionTreeRegressor(max_features='auto', random_state=464928434), DecisionTreeRegressor(max_features='auto', random_state=1746249088), DecisionTreeRegressor(max_features='auto', random_state=1518704487), DecisionTreeRegressor(max_features='auto', random_state=960745899), DecisionTreeRegressor(max_features='auto', random_state=1996925246), DecisionTreeRegressor(max_features='auto', random_state=1077237466), DecisionTreeRegressor(max_features='auto', random_state=908746547), DecisionTreeRegressor(max_features='auto', random_state=1587318628), DecisionTreeRegressor(max_features='auto', random_state=721838632), DecisionTreeRegressor(max_features='auto', random_state=1546921859), DecisionTreeRegressor(max_features='auto', random_state=429749329), DecisionTreeRegressor(max_features='auto', random_state=760255013), DecisionTreeRegressor(max_features='auto', random_state=1178562424), DecisionTreeRegressor(max_features='auto', random_state=1091916452), DecisionTreeRegressor(max_features='auto', random_state=849260945), DecisionTreeRegressor(max_features='auto', random_state=2117154843), DecisionTreeRegressor(max_features='auto', random_state=466182155), DecisionTreeRegressor(max_features='auto', random_state=991236644), DecisionTreeRegressor(max_features='auto', random_state=166978168), DecisionTreeRegressor(max_features='auto', random_state=783311311), DecisionTreeRegressor(max_features='auto', random_state=379563723), DecisionTreeRegressor(max_features='auto', random_state=914627978), DecisionTreeRegressor(max_features='auto', random_state=1064479486), DecisionTreeRegressor(max_features='auto', random_state=663952413), DecisionTreeRegressor(max_features='auto', random_state=1377175589), DecisionTreeRegressor(max_features='auto', random_state=612794812), DecisionTreeRegressor(max_features='auto', random_state=2049583452), DecisionTreeRegressor(max_features='auto', random_state=334538803), DecisionTreeRegressor(max_features='auto', random_state=1813748261), DecisionTreeRegressor(max_features='auto', random_state=1278317956), DecisionTreeRegressor(max_features='auto', random_state=725622369), DecisionTreeRegressor(max_features='auto', random_state=1764556412), DecisionTreeRegressor(max_features='auto', random_state=1284604531), DecisionTreeRegressor(max_features='auto', random_state=617364950), DecisionTreeRegressor(max_features='auto', random_state=282694436), DecisionTreeRegressor(max_features='auto', random_state=1027477758), DecisionTreeRegressor(max_features='auto', random_state=937208), DecisionTreeRegressor(max_features='auto', random_state=2126140057), DecisionTreeRegressor(max_features='auto', random_state=107784117), DecisionTreeRegressor(max_features='auto', random_state=1111041248), DecisionTreeRegressor(max_features='auto', random_state=1790102309), DecisionTreeRegressor(max_features='auto', random_state=1570632336), DecisionTreeRegressor(max_features='auto', random_state=82287643), DecisionTreeRegressor(max_features='auto', random_state=1924749497), DecisionTreeRegressor(max_features='auto', random_state=1939260938), DecisionTreeRegressor(max_features='auto', random_state=613295417), DecisionTreeRegressor(max_features='auto', random_state=275117738), DecisionTreeRegressor(max_features='auto', random_state=544917358), DecisionTreeRegressor(max_features='auto', random_state=391339945), DecisionTreeRegressor(max_features='auto', random_state=518913332), DecisionTreeRegressor(max_features='auto', random_state=1361951396), DecisionTreeRegressor(max_features='auto', random_state=1862932396), DecisionTreeRegressor(max_features='auto', random_state=1342231554), DecisionTreeRegressor(max_features='auto', random_state=1248267949), DecisionTreeRegressor(max_features='auto', random_state=1200233339), DecisionTreeRegressor(max_features='auto', random_state=1358223768), DecisionTreeRegressor(max_features='auto', random_state=568762309), DecisionTreeRegressor(max_features='auto', random_state=2012089887), DecisionTreeRegressor(max_features='auto', random_state=2009348414)]\n"
     ]
    }
   ],
   "source": [
    "RF = pipeline.named_steps['regressor']\n",
    "print(RF.predict([[0, 0, 0, 0,0, 0, 0, 0,0,0]]))\n",
    "print(RF.estimators_)"
   ]
  }
 ],
 "metadata": {
  "kernelspec": {
   "display_name": "Python 3 (ipykernel)",
   "language": "python",
   "name": "python3"
  },
  "language_info": {
   "codemirror_mode": {
    "name": "ipython",
    "version": 3
   },
   "file_extension": ".py",
   "mimetype": "text/x-python",
   "name": "python",
   "nbconvert_exporter": "python",
   "pygments_lexer": "ipython3",
   "version": "3.9.13"
  }
 },
 "nbformat": 4,
 "nbformat_minor": 5
}
