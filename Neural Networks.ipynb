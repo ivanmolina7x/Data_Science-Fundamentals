{
 "cells": [
  {
   "attachments": {},
   "cell_type": "markdown",
   "metadata": {},
   "source": [
    "#Generalities\n",
    "https://piexchange.medium.com/decoding-deep-learning-neural-networks-for-regression-part-i-332f1d2fedd5\n",
    "https://thinkingneuron.com/using-artificial-neural-networks-for-regression-in-python/\n",
    "https://towardsdatascience.com/regression-based-neural-networks-with-tensorflow-v2-0-predicting-average-daily-rates-e20fffa7ac9a\n",
    "#Optimizer\n",
    "https://towardsdatascience.com/7-tips-to-choose-the-best-optimizer-47bb9c1219e\n",
    "https://towardsdatascience.com/optimizers-for-training-neural-network-59450d71caf6\n",
    "#Dropout\n",
    "https://machinelearningmastery.com/dropout-for-regularizing-deep-neural-networks/\n",
    "#GridSearch\n",
    "https://piexchange.medium.com/decoding-deep-learning-neural-networks-for-regression-part-ii-3ce017de6c69\n",
    "#Number of Hidden layers and neurons\n",
    "https://medium.com/geekculture/introduction-to-neural-network-2f8b8221fbd3#:~:text=Number%20of%20Neurons%20and%20Number%20of%20Layers%20in%20Hidden%20Layer&text=The%20number%20of%20hidden%20neurons,size%20of%20the%20output%20layer.\n",
    "#Batch and epoch\n",
    "##https://machinelearningmastery.com/difference-between-a-batch-and-an-epoch/\n",
    "#Early stopping\n",
    "https://medium.com/zero-equals-false/early-stopping-to-avoid-overfitting-in-neural-network-keras-b68c96ed05d9  #ModelCheckpoint or restore_best_weights work\n",
    "https://machinelearningmastery.com/early-stopping-to-avoid-overtraining-neural-network-models/ #One approach is to only use early stopping once all other hyperparameters of the model have been chosen"
   ]
  },
  {
   "cell_type": "code",
   "execution_count": null,
   "metadata": {
    "vscode": {
     "languageId": "plaintext"
    }
   },
   "outputs": [],
   "source": []
  }
 ],
 "metadata": {
  "language_info": {
   "name": "python"
  },
  "orig_nbformat": 4
 },
 "nbformat": 4,
 "nbformat_minor": 2
}
