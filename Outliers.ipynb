{
 "cells": [
  {
   "cell_type": "code",
   "execution_count": null,
   "id": "60b32d6b",
   "metadata": {},
   "outputs": [],
   "source": [
    "def OutliersDetection(influence, VarCount, ObsCount):\n",
    "    Outliers = {}\n",
    "    OutliersSummary = influence.summary_frame()\n",
    "    p = VarCount\n",
    "    n = ObsCount\n",
    "    \n",
    "    #abs(Standarized residuals)>3\n",
    "    CutOffSR = 3\n",
    "    Outliers['StandResid']=OutliersSummary.index[abs(OutliersSummary['standard_resid'])>CutOffSR].tolist()\n",
    "    \n",
    "    #Cooks distance >=1\n",
    "    CutOffCD = 1\n",
    "    Outliers['CooksDist'] = OutliersSummary.index[OutliersSummary['cooks_d']>=CutOffCD].tolist()\n",
    "       \n",
    "    #abs(DfFits) >= 2*(p/n)^(1/2) p->parameters number  n->Observations number\n",
    "    CutOffDfF = 2*pow(p/n,1/2)\n",
    "    Outliers['DfFits'] = OutliersSummary.index[abs(OutliersSummary['dffits'])>=CutOffDfF].tolist()\n",
    "       \n",
    "    #abs(CovRatio-1) >= 3*(p/n) p->parameters number  n->Observations number\n",
    "    CutOffCR = 3*p/n\n",
    "    Outliers['CovRatio'] = []\n",
    "    cov_ratio = influence.cov_ratio\n",
    "    for n,cov_ratio in enumerate(cov_ratio):\n",
    "        if abs(cov_ratio-1) >= CutOffCR:\n",
    "            Outliers['CovRatio'].append(n)\n",
    "    \n",
    "    #abs(DfBetas) >= 2/(n^(1/2)) n->Observations number\n",
    "    CutOffDfB = 2/(pow(n,1/2))\n",
    "    Outliers['DfBetas'] = []\n",
    "    dfbetas = influence.dfbetas  \n",
    "    for n,dfbetas in enumerate(dfbetas):\n",
    "        if abs(max(dfbetas)) >= CutOffDfB:\n",
    "            Outliers['DfBetas'].append(n)\n",
    "    \n",
    "    OutliersFreq = {}\n",
    "    OutliersCum = []\n",
    "    for Method,OutliersMethod in Outliers.items():\n",
    "        for Outlier in OutliersMethod:\n",
    "            OutliersCum.append(Outlier)\n",
    "    OutliersFreq = [OutliersCum.count(o) for o in OutliersCum]\n",
    "    OutliersCount = dict(list(zip(OutliersCum, OutliersFreq)))\n",
    "    \n",
    "    return Outliers, OutliersCount"
   ]
  }
 ],
 "metadata": {
  "kernelspec": {
   "display_name": "Python 3 (ipykernel)",
   "language": "python",
   "name": "python3"
  },
  "language_info": {
   "codemirror_mode": {
    "name": "ipython",
    "version": 3
   },
   "file_extension": ".py",
   "mimetype": "text/x-python",
   "name": "python",
   "nbconvert_exporter": "python",
   "pygments_lexer": "ipython3",
   "version": "3.9.13"
  }
 },
 "nbformat": 4,
 "nbformat_minor": 5
}
